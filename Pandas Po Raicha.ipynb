{
 "cells": [
  {
   "cell_type": "code",
   "execution_count": null,
   "id": "8c8cf127",
   "metadata": {},
   "outputs": [],
   "source": [
    "#Pandas is a fast, powerful, flexible and easy to use source data analysis and manipulation tool, built on top of the\n",
    "#python programming language.\n",
    "#. Series: A one-dimensional labeled array. It can hold any data type (Integers, floats, strings, etc.). It is similar to a column in  a spreadsheet or SQL table.\n",
    "#    . Creating a series form a list, dictionary or NumPy array\n",
    "#    . Accessing calues using integer indexes or labels\n",
    "#    . Series attributes (values, index, dtype, etc.)"
   ]
  },
  {
   "cell_type": "code",
   "execution_count": 3,
   "id": "478156b0",
   "metadata": {},
   "outputs": [
    {
     "name": "stdout",
     "output_type": "stream",
     "text": [
      "Series form list is:\n",
      "  0    10\n",
      "1    20\n",
      "2    30\n",
      "3    40\n",
      "4    50\n",
      "5    60\n",
      "dtype: int64\n"
     ]
    }
   ],
   "source": [
    "import pandas as pd\n",
    "\n",
    "#Create a Series from a list\n",
    "data_list = [10, 20, 30, 40, 50, 60]\n",
    "\n",
    "seriesFromList = pd.Series(data_list)\n",
    "print(\"Series form list is:\\n \",seriesFromList) #Aagadi esaree kura haru lekhyo bhane, print garda euta space linchha"
   ]
  },
  {
   "cell_type": "code",
   "execution_count": 4,
   "id": "000c31a3",
   "metadata": {},
   "outputs": [
    {
     "name": "stdout",
     "output_type": "stream",
     "text": [
      "Apple     12\n",
      "Banana    10\n",
      "Cherry     5\n",
      "dtype: int64\n"
     ]
    }
   ],
   "source": [
    "# Create a series form dictionary\n",
    "data_dict = {\n",
    "    \"Apple\": 12,\n",
    "    \"Banana\":10,\n",
    "    \"Cherry\":5\n",
    "}\n",
    "seriesFromDict = pd.Series(data_dict)\n",
    "print(seriesFromDict)"
   ]
  },
  {
   "cell_type": "code",
   "execution_count": 5,
   "id": "e8525811",
   "metadata": {},
   "outputs": [
    {
     "name": "stdout",
     "output_type": "stream",
     "text": [
      "0    120\n",
      "1    230\n",
      "2    204\n",
      "3    430\n",
      "4    404\n",
      "dtype: int32\n"
     ]
    }
   ],
   "source": [
    "import numpy as np\n",
    "\n",
    "#Creating a series from an numpy array\n",
    "dataArray = np.array([120, 230, 204, 430, 404])\n",
    "seriesFromArray = pd.Series(dataArray)\n",
    "print(seriesFromArray)"
   ]
  },
  {
   "cell_type": "code",
   "execution_count": 6,
   "id": "d90d76eb",
   "metadata": {},
   "outputs": [
    {
     "name": "stdout",
     "output_type": "stream",
     "text": [
      "5\n"
     ]
    }
   ],
   "source": [
    "#Accessing the elements\n",
    "dataList = [5, 10, 15, 20, 25, 30]\n",
    "seriesFromList = pd.Series(dataList)\n",
    "print(seriesFromList[0])"
   ]
  },
  {
   "cell_type": "code",
   "execution_count": 9,
   "id": "9702b06e",
   "metadata": {},
   "outputs": [
    {
     "name": "stdout",
     "output_type": "stream",
     "text": [
      "5\n",
      "10\n"
     ]
    }
   ],
   "source": [
    "#Retriving data using labels\n",
    "seriesWithLabels = pd.Series(dataList, index = ['a', 'b', 'c', 'd', 'e', 'f'])\n",
    "print(seriesWithLabels['a'])\n",
    "print(seriesWithLabels['b'])"
   ]
  },
  {
   "cell_type": "code",
   "execution_count": 12,
   "id": "17f7293b",
   "metadata": {},
   "outputs": [
    {
     "name": "stdout",
     "output_type": "stream",
     "text": [
      "[ 5 10 15 20 25 30]\n",
      "Index(['a', 'b', 'c', 'd', 'e', 'f'], dtype='object')\n"
     ]
    }
   ],
   "source": [
    "#Getting the values of the series\n",
    "print(seriesFromList.values)\n",
    "\n",
    "#Getting the index from series\n",
    "print(seriesWithLabels.index)"
   ]
  },
  {
   "cell_type": "code",
   "execution_count": 13,
   "id": "bbbcf900",
   "metadata": {},
   "outputs": [],
   "source": [
    "#DataFrame: A two-dimensional labeled data structure, similar to a spreadsheet or SQL table, with rows and columns.\n",
    "#   Creating a DataFrame from dictionaries, list, series or numpy arrays."
   ]
  },
  {
   "cell_type": "code",
   "execution_count": 14,
   "id": "458174eb",
   "metadata": {},
   "outputs": [
    {
     "name": "stdout",
     "output_type": "stream",
     "text": [
      "   A   B   c\n",
      "0  1  20  90\n",
      "1  2  30  40\n",
      "2  4  40  30\n",
      "3  5  50  20\n"
     ]
    }
   ],
   "source": [
    "import pandas as pd\n",
    "#Creating a dataframe from a dictionary\n",
    "dataDict = {\n",
    "    \"A\": [1, 2, 4, 5],\n",
    "    \"B\": [20, 30, 40, 50],\n",
    "    \"c\": [90, 40, 30, 20]\n",
    "}\n",
    "dfFromDict = pd.DataFrame(dataDict)\n",
    "print(dfFromDict)"
   ]
  },
  {
   "cell_type": "code",
   "execution_count": 15,
   "id": "3cabce09",
   "metadata": {},
   "outputs": [
    {
     "name": "stdout",
     "output_type": "stream",
     "text": [
      "    A   B   C\n",
      "0   1   2   3\n",
      "1  20  30  43\n",
      "2  30  43  23\n"
     ]
    }
   ],
   "source": [
    "#Create a dataframe from a list of dictionaries\n",
    "dataListOfDictionaries = [\n",
    "    {'A': 1, 'B': 2, 'C': 3}, \n",
    "    {'A': 20, 'B':30, 'C': 43},\n",
    "    {'A': 30, 'B': 43, 'C': 23}\n",
    "]\n",
    "\n",
    "dfFromListOfDictionaries = pd.DataFrame(dataListOfDictionaries)\n",
    "print(dfFromListOfDictionaries)"
   ]
  },
  {
   "cell_type": "code",
   "execution_count": 16,
   "id": "e884da38",
   "metadata": {},
   "outputs": [
    {
     "name": "stdout",
     "output_type": "stream",
     "text": [
      "    A   B    C\n",
      "0  10  50   90\n",
      "1  20  60  100\n",
      "2  30  70  110\n",
      "3  40  80  120\n"
     ]
    }
   ],
   "source": [
    "#Creating a DataFrame from multiple Series\n",
    "seriesA = pd.Series([10, 20, 30, 40])\n",
    "seriesB = pd.Series([50, 60, 70, 80])\n",
    "seriesC = pd.Series([90, 100, 110, 120])\n",
    "\n",
    "dfFromSeries = pd.DataFrame({\n",
    "    'A': seriesA,\n",
    "    'B': seriesB,\n",
    "    'C': seriesC\n",
    "})\n",
    "\n",
    "print(dfFromSeries)"
   ]
  },
  {
   "cell_type": "code",
   "execution_count": 19,
   "id": "4d84c912",
   "metadata": {},
   "outputs": [
    {
     "name": "stdout",
     "output_type": "stream",
     "text": [
      "    A   B   C\n",
      "0  10  20  30\n",
      "1  40  50  60\n",
      "2  70  80  90\n"
     ]
    }
   ],
   "source": [
    "import numpy as np\n",
    "\n",
    "#Create a DataFrame from a numpy array\n",
    "dataArray = np.array([[10, 20, 30], [40, 50, 60], [70, 80, 90]])\n",
    "dfFromArray = pd.DataFrame(dataArray, columns = ['A', 'B', 'C'])\n",
    "print(dfFromArray)"
   ]
  },
  {
   "cell_type": "code",
   "execution_count": 20,
   "id": "2d9a6028",
   "metadata": {},
   "outputs": [
    {
     "name": "stdout",
     "output_type": "stream",
     "text": [
      "(3, 3)\n",
      "Index(['A', 'B', 'C'], dtype='object')\n",
      "RangeIndex(start=0, stop=3, step=1)\n"
     ]
    }
   ],
   "source": [
    "#Display the structure of the DataFrame\n",
    "print(dfFromArray.shape)\n",
    "print(dfFromArray.columns)\n",
    "print(dfFromArray.index)"
   ]
  },
  {
   "cell_type": "code",
   "execution_count": 5,
   "id": "f6de58e6",
   "metadata": {},
   "outputs": [
    {
     "name": "stdout",
     "output_type": "stream",
     "text": [
      "    A   B   C\n",
      "0  10  20  30\n",
      "1  40  50  60\n",
      "2  70  80  90\n"
     ]
    }
   ],
   "source": [
    "import numpy as np\n",
    "import pandas as pd\n",
    "\n",
    "#Create a DataFrame from a Numpy Array\n",
    "dataArray = np.array([[10, 20, 30], [40, 50, 60], [70, 80, 90]])\n",
    "dfFromArray = pd.DataFrame(dataArray, columns = ['A', 'B', 'C'])\n",
    "print(dfFromArray)"
   ]
  },
  {
   "cell_type": "code",
   "execution_count": 2,
   "id": "28d420f5",
   "metadata": {},
   "outputs": [
    {
     "name": "stdout",
     "output_type": "stream",
     "text": [
      "0    10\n",
      "1    40\n",
      "2    70\n",
      "Name: A, dtype: int32\n",
      "\n",
      "    A   B\n",
      "0  10  20\n",
      "1  40  50\n",
      "2  70  80\n"
     ]
    }
   ],
   "source": [
    "# Accessing the data using columns names\n",
    "print(dfFromArray['A'])\n",
    "print()\n",
    "print(dfFromArray[['A', 'B']])"
   ]
  },
  {
   "cell_type": "code",
   "execution_count": 3,
   "id": "5ec4e104",
   "metadata": {},
   "outputs": [
    {
     "name": "stdout",
     "output_type": "stream",
     "text": [
      "A    10\n",
      "B    20\n",
      "C    30\n",
      "Name: 0, dtype: int32\n",
      "\n",
      "A    40\n",
      "B    50\n",
      "C    60\n",
      "Name: 1, dtype: int32\n",
      "\n",
      "    A   B   C\n",
      "0  10  20  30\n",
      "1  40  50  60\n",
      "\n",
      "    A   B   C\n",
      "0  10  20  30\n",
      "1  40  50  60\n",
      "2  70  80  90\n"
     ]
    }
   ],
   "source": [
    "#Accessing the data using row label\n",
    "print(dfFromArray.iloc[0])\n",
    "print()\n",
    "print(dfFromArray.loc[1])\n",
    "print()\n",
    "print(dfFromArray.iloc[0:2])\n",
    "print()\n",
    "print(dfFromArray.loc[0:2])"
   ]
  },
  {
   "cell_type": "code",
   "execution_count": 4,
   "id": "626d2c95",
   "metadata": {},
   "outputs": [
    {
     "name": "stdout",
     "output_type": "stream",
     "text": [
      "A    int32\n",
      "B    int32\n",
      "C    int32\n",
      "dtype: object\n"
     ]
    }
   ],
   "source": [
    "print(dfFromArray.dtypes)"
   ]
  },
  {
   "cell_type": "code",
   "execution_count": 8,
   "id": "941800f7",
   "metadata": {},
   "outputs": [
    {
     "name": "stdout",
     "output_type": "stream",
     "text": [
      "    A   B   C\n",
      "0  10  20  30\n",
      "1  40  50  60\n",
      "2  70  80  90\n",
      "    A   B   C    D\n",
      "0  10  20  30  100\n",
      "1  40  50  60  200\n",
      "2  70  80  90  300\n"
     ]
    }
   ],
   "source": [
    "import numpy as np\n",
    "import pandas as pd\n",
    "\n",
    "#Create a DataFrame from a Numpy Array\n",
    "dataArray = np.array([[10, 20, 30], [40, 50, 60], [70, 80, 90]])\n",
    "dfFromArray = pd.DataFrame(dataArray, columns = ['A', 'B', 'C'])\n",
    "print(dfFromArray)\n",
    "\n",
    "#Adding a once column in the given datasates\n",
    "dfFromArray['D'] = [100, 200, 300]\n",
    "print(dfFromArray)"
   ]
  },
  {
   "cell_type": "code",
   "execution_count": 9,
   "id": "9b962284",
   "metadata": {},
   "outputs": [
    {
     "name": "stdout",
     "output_type": "stream",
     "text": [
      "    B   C    D\n",
      "0  20  30  100\n",
      "1  50  60  200\n",
      "2  80  90  300\n"
     ]
    }
   ],
   "source": [
    "#Dropping a column from DataFrame\n",
    "dfFromArray = dfFromArray.drop(columns=['A'])\n",
    "print(dfFromArray)"
   ]
  },
  {
   "cell_type": "code",
   "execution_count": 11,
   "id": "f01df3ca",
   "metadata": {},
   "outputs": [
    {
     "name": "stdout",
     "output_type": "stream",
     "text": [
      "    B   C    D\n",
      "1  50  60  200\n",
      "2  80  90  300\n"
     ]
    }
   ],
   "source": [
    "#Filtering rows based on condition 'B'>30\n",
    "filterDataFrame = dfFromArray[dfFromArray['B']>30]\n",
    "print(filterDataFrame)"
   ]
  },
  {
   "cell_type": "code",
   "execution_count": 14,
   "id": "374db4f7",
   "metadata": {},
   "outputs": [
    {
     "name": "stdout",
     "output_type": "stream",
     "text": [
      "0     40\n",
      "1    100\n",
      "2    160\n",
      "Name: B, dtype: int32\n",
      "    B    C\n",
      "0  32   42\n",
      "1  62   72\n",
      "2  92  102\n"
     ]
    }
   ],
   "source": [
    "#Performing vectorized operations on DataFrame\n",
    "#Series with values in column 'A' multiplied by 2\n",
    "print(dfFromArray['B']*2)\n",
    "\n",
    "#DataFrame with columns 'A' and 'B' incremented by 12\n",
    "print(dfFromArray[['B', 'C']] + 12)"
   ]
  },
  {
   "cell_type": "code",
   "execution_count": 18,
   "id": "0bdc6bc4",
   "metadata": {},
   "outputs": [
    {
     "name": "stdout",
     "output_type": "stream",
     "text": [
      "Creating a DataFrame with missing values:\n",
      "      A     B     C\n",
      "0  10.0  24.0   NaN\n",
      "1  20.0   NaN  43.0\n",
      "2   NaN  32.0  56.0\n",
      "3  40.0  43.0  23.0\n"
     ]
    }
   ],
   "source": [
    "print(\"Creating a DataFrame with missing values:\")\n",
    "dfWithNAN = pd.DataFrame({\n",
    "    \"A\": [10, 20, None, 40],\n",
    "    \"B\": [24, None, 32, 43],\n",
    "    \"C\": [None, 43, 56, 23]\n",
    "})\n",
    "print(dfWithNAN)"
   ]
  },
  {
   "cell_type": "code",
   "execution_count": 24,
   "id": "8278e74b",
   "metadata": {},
   "outputs": [
    {
     "name": "stdout",
     "output_type": "stream",
     "text": [
      "Checking for missing data\n",
      "       A      B      C\n",
      "0  False  False   True\n",
      "1  False   True  False\n",
      "2   True  False  False\n",
      "3  False  False  False\n",
      "\n",
      "Removing the missing data\n",
      "      A     B     C\n",
      "3  40.0  43.0  23.0\n",
      "\n",
      "Filling the missing values\n",
      "      A     B     C\n",
      "0  10.0  24.0   0.0\n",
      "1  20.0   0.0  43.0\n",
      "2   0.0  32.0  56.0\n",
      "3  40.0  43.0  23.0\n"
     ]
    }
   ],
   "source": [
    "print(\"Checking for missing data\")\n",
    "print(dfWithNAN.isnull())\n",
    "\n",
    "print(\"\\nRemoving the missing data\")\n",
    "#Don't use dropna haii, it removes all the row if it has one single nan data\n",
    "print(dfWithNAN.dropna())\n",
    "\n",
    "print(\"\\nFilling the missing values\")\n",
    "print(dfWithNAN.fillna(0))"
   ]
  },
  {
   "cell_type": "code",
   "execution_count": 27,
   "id": "0e3821d6",
   "metadata": {},
   "outputs": [
    {
     "name": "stdout",
     "output_type": "stream",
     "text": [
      "         Date Product  unitSold  Revenue\n",
      "0  2024-01-01   Apple      10.0   2000.0\n",
      "1  2024-01-02  Banana       NaN   1750.0\n",
      "2  2024-01-03    Silk      15.0      NaN\n",
      "3  2024-01-04  Banana      26.0    400.0\n"
     ]
    }
   ],
   "source": [
    "#Creating a DataFrame of Sales with missing values\n",
    "import pandas as pd\n",
    "\n",
    "#Creating a DataFrame with missing data\n",
    "salesData = {\n",
    "    'Date': ['2024-01-01', '2024-01-02', '2024-01-03', '2024-01-04'],\n",
    "    'Product': ['Apple', 'Banana', 'Silk', 'Banana'],\n",
    "    'unitSold': [10, None, 15, 26],\n",
    "    'Revenue': [2000, 1750, None, 400]\n",
    "}\n",
    "dfSales = pd.DataFrame(salesData)\n",
    "print(dfSales)"
   ]
  },
  {
   "cell_type": "code",
   "execution_count": 31,
   "id": "de7a5422",
   "metadata": {},
   "outputs": [
    {
     "name": "stdout",
     "output_type": "stream",
     "text": [
      "Checking for mmissing values\n",
      "    Date  Product  unitSold  Revenue\n",
      "0  False    False     False    False\n",
      "1  False    False      True    False\n",
      "2  False    False     False     True\n",
      "3  False    False     False    False\n",
      "\n",
      "Sum of the missing values\n",
      "Date        0\n",
      "Product     0\n",
      "unitSold    1\n",
      "Revenue     1\n",
      "dtype: int64\n",
      "         Date Product  unitSold  Revenue\n",
      "0  2024-01-01   Apple      10.0   2000.0\n",
      "1  2024-01-02  Banana       0.0   1750.0\n",
      "2  2024-01-03    Silk      15.0      0.0\n",
      "3  2024-01-04  Banana      26.0    400.0\n"
     ]
    }
   ],
   "source": [
    "#Checking for missing values\n",
    "print(\"Checking for mmissing values\")\n",
    "print(dfSales.isnull())\n",
    "\n",
    "print(\"\\nSum of the missing values\")\n",
    "print(dfSales.isnull().sum())\n",
    "\n",
    "#Handeling the missing values by filling them\n",
    "print(dfSales.fillna(0))"
   ]
  },
  {
   "cell_type": "code",
   "execution_count": 33,
   "id": "829ccfff",
   "metadata": {},
   "outputs": [
    {
     "name": "stdout",
     "output_type": "stream",
     "text": [
      "Initial Data:\n"
     ]
    },
    {
     "data": {
      "text/html": [
       "<div>\n",
       "<style scoped>\n",
       "    .dataframe tbody tr th:only-of-type {\n",
       "        vertical-align: middle;\n",
       "    }\n",
       "\n",
       "    .dataframe tbody tr th {\n",
       "        vertical-align: top;\n",
       "    }\n",
       "\n",
       "    .dataframe thead th {\n",
       "        text-align: right;\n",
       "    }\n",
       "</style>\n",
       "<table border=\"1\" class=\"dataframe\">\n",
       "  <thead>\n",
       "    <tr style=\"text-align: right;\">\n",
       "      <th></th>\n",
       "      <th>date</th>\n",
       "      <th>inside_sales</th>\n",
       "      <th>outside_sales</th>\n",
       "      <th>inside_covers</th>\n",
       "      <th>outside_covers</th>\n",
       "      <th>reserved_covers</th>\n",
       "      <th>walkin_covers</th>\n",
       "      <th>waitlist_covers</th>\n",
       "      <th>no_show_covers</th>\n",
       "      <th>no_show_parties</th>\n",
       "      <th>apparent_temperature</th>\n",
       "      <th>humidity</th>\n",
       "      <th>precip_intensity_max</th>\n",
       "      <th>precip_max_time</th>\n",
       "      <th>precip_prob</th>\n",
       "      <th>precip_type</th>\n",
       "      <th>pressure</th>\n",
       "      <th>summary</th>\n",
       "      <th>temperature</th>\n",
       "    </tr>\n",
       "  </thead>\n",
       "  <tbody>\n",
       "    <tr>\n",
       "      <th>0</th>\n",
       "      <td>2017-01-02</td>\n",
       "      <td>13159.84</td>\n",
       "      <td>NaN</td>\n",
       "      <td>174</td>\n",
       "      <td>0</td>\n",
       "      <td>106</td>\n",
       "      <td>26</td>\n",
       "      <td>42</td>\n",
       "      <td>17</td>\n",
       "      <td>6</td>\n",
       "      <td>35.58</td>\n",
       "      <td>0.92</td>\n",
       "      <td>0.0242</td>\n",
       "      <td>15:00:00</td>\n",
       "      <td>0.79</td>\n",
       "      <td>rain</td>\n",
       "      <td>1027.98</td>\n",
       "      <td>rain</td>\n",
       "      <td>39.06</td>\n",
       "    </tr>\n",
       "    <tr>\n",
       "      <th>1</th>\n",
       "      <td>2017-01-03</td>\n",
       "      <td>12442.11</td>\n",
       "      <td>NaN</td>\n",
       "      <td>181</td>\n",
       "      <td>0</td>\n",
       "      <td>119</td>\n",
       "      <td>31</td>\n",
       "      <td>31</td>\n",
       "      <td>14</td>\n",
       "      <td>4</td>\n",
       "      <td>41.50</td>\n",
       "      <td>0.94</td>\n",
       "      <td>0.0913</td>\n",
       "      <td>17:00:00</td>\n",
       "      <td>0.77</td>\n",
       "      <td>rain</td>\n",
       "      <td>1000.08</td>\n",
       "      <td>rain</td>\n",
       "      <td>43.19</td>\n",
       "    </tr>\n",
       "    <tr>\n",
       "      <th>2</th>\n",
       "      <td>2017-01-04</td>\n",
       "      <td>12927.64</td>\n",
       "      <td>NaN</td>\n",
       "      <td>174</td>\n",
       "      <td>0</td>\n",
       "      <td>131</td>\n",
       "      <td>17</td>\n",
       "      <td>26</td>\n",
       "      <td>5</td>\n",
       "      <td>2</td>\n",
       "      <td>36.81</td>\n",
       "      <td>0.40</td>\n",
       "      <td>0.0176</td>\n",
       "      <td>00:00:00</td>\n",
       "      <td>0.00</td>\n",
       "      <td>rain</td>\n",
       "      <td>1002.55</td>\n",
       "      <td>clear-night</td>\n",
       "      <td>42.29</td>\n",
       "    </tr>\n",
       "    <tr>\n",
       "      <th>3</th>\n",
       "      <td>2017-01-05</td>\n",
       "      <td>14457.79</td>\n",
       "      <td>NaN</td>\n",
       "      <td>191</td>\n",
       "      <td>0</td>\n",
       "      <td>138</td>\n",
       "      <td>25</td>\n",
       "      <td>28</td>\n",
       "      <td>4</td>\n",
       "      <td>2</td>\n",
       "      <td>27.11</td>\n",
       "      <td>0.48</td>\n",
       "      <td>0.0000</td>\n",
       "      <td>05:01:00</td>\n",
       "      <td>0.00</td>\n",
       "      <td>none</td>\n",
       "      <td>1014.61</td>\n",
       "      <td>cloudy</td>\n",
       "      <td>31.36</td>\n",
       "    </tr>\n",
       "    <tr>\n",
       "      <th>4</th>\n",
       "      <td>2017-01-06</td>\n",
       "      <td>15331.97</td>\n",
       "      <td>NaN</td>\n",
       "      <td>200</td>\n",
       "      <td>0</td>\n",
       "      <td>130</td>\n",
       "      <td>16</td>\n",
       "      <td>54</td>\n",
       "      <td>6</td>\n",
       "      <td>3</td>\n",
       "      <td>24.74</td>\n",
       "      <td>0.48</td>\n",
       "      <td>0.0019</td>\n",
       "      <td>12:00:00</td>\n",
       "      <td>0.00</td>\n",
       "      <td>snow</td>\n",
       "      <td>1022.80</td>\n",
       "      <td>partly-cloudy-night</td>\n",
       "      <td>29.42</td>\n",
       "    </tr>\n",
       "  </tbody>\n",
       "</table>\n",
       "</div>"
      ],
      "text/plain": [
       "         date  inside_sales  outside_sales  inside_covers  outside_covers  \\\n",
       "0  2017-01-02      13159.84            NaN            174               0   \n",
       "1  2017-01-03      12442.11            NaN            181               0   \n",
       "2  2017-01-04      12927.64            NaN            174               0   \n",
       "3  2017-01-05      14457.79            NaN            191               0   \n",
       "4  2017-01-06      15331.97            NaN            200               0   \n",
       "\n",
       "   reserved_covers  walkin_covers  waitlist_covers  no_show_covers  \\\n",
       "0              106             26               42              17   \n",
       "1              119             31               31              14   \n",
       "2              131             17               26               5   \n",
       "3              138             25               28               4   \n",
       "4              130             16               54               6   \n",
       "\n",
       "   no_show_parties  apparent_temperature  humidity  precip_intensity_max  \\\n",
       "0                6                 35.58      0.92                0.0242   \n",
       "1                4                 41.50      0.94                0.0913   \n",
       "2                2                 36.81      0.40                0.0176   \n",
       "3                2                 27.11      0.48                0.0000   \n",
       "4                3                 24.74      0.48                0.0019   \n",
       "\n",
       "  precip_max_time  precip_prob precip_type  pressure              summary  \\\n",
       "0        15:00:00         0.79        rain   1027.98                 rain   \n",
       "1        17:00:00         0.77        rain   1000.08                 rain   \n",
       "2        00:00:00         0.00        rain   1002.55          clear-night   \n",
       "3        05:01:00         0.00        none   1014.61               cloudy   \n",
       "4        12:00:00         0.00        snow   1022.80  partly-cloudy-night   \n",
       "\n",
       "   temperature  \n",
       "0        39.06  \n",
       "1        43.19  \n",
       "2        42.29  \n",
       "3        31.36  \n",
       "4        29.42  "
      ]
     },
     "execution_count": 33,
     "metadata": {},
     "output_type": "execute_result"
    }
   ],
   "source": [
    "import pandas as pd\n",
    "import numpy as np\n",
    "\n",
    "# Load the datasets\n",
    "\n",
    "\n",
    "df = pd.read_csv('CSV_for_EDA.csv')\n",
    "\n",
    "#Display the first few rows of datasets\n",
    "print(\"Initial Data:\")\n",
    "df.head()"
   ]
  },
  {
   "cell_type": "code",
   "execution_count": 34,
   "id": "44d7c9d8",
   "metadata": {},
   "outputs": [
    {
     "name": "stdout",
     "output_type": "stream",
     "text": [
      "The bottom few data are:\n"
     ]
    },
    {
     "data": {
      "text/html": [
       "<div>\n",
       "<style scoped>\n",
       "    .dataframe tbody tr th:only-of-type {\n",
       "        vertical-align: middle;\n",
       "    }\n",
       "\n",
       "    .dataframe tbody tr th {\n",
       "        vertical-align: top;\n",
       "    }\n",
       "\n",
       "    .dataframe thead th {\n",
       "        text-align: right;\n",
       "    }\n",
       "</style>\n",
       "<table border=\"1\" class=\"dataframe\">\n",
       "  <thead>\n",
       "    <tr style=\"text-align: right;\">\n",
       "      <th></th>\n",
       "      <th>date</th>\n",
       "      <th>inside_sales</th>\n",
       "      <th>outside_sales</th>\n",
       "      <th>inside_covers</th>\n",
       "      <th>outside_covers</th>\n",
       "      <th>reserved_covers</th>\n",
       "      <th>walkin_covers</th>\n",
       "      <th>waitlist_covers</th>\n",
       "      <th>no_show_covers</th>\n",
       "      <th>no_show_parties</th>\n",
       "      <th>apparent_temperature</th>\n",
       "      <th>humidity</th>\n",
       "      <th>precip_intensity_max</th>\n",
       "      <th>precip_max_time</th>\n",
       "      <th>precip_prob</th>\n",
       "      <th>precip_type</th>\n",
       "      <th>pressure</th>\n",
       "      <th>summary</th>\n",
       "      <th>temperature</th>\n",
       "    </tr>\n",
       "  </thead>\n",
       "  <tbody>\n",
       "    <tr>\n",
       "      <th>893</th>\n",
       "      <td>2019-06-26</td>\n",
       "      <td>12605.00</td>\n",
       "      <td>4487.50</td>\n",
       "      <td>179</td>\n",
       "      <td>67</td>\n",
       "      <td>149</td>\n",
       "      <td>0</td>\n",
       "      <td>97</td>\n",
       "      <td>6</td>\n",
       "      <td>2</td>\n",
       "      <td>84.43</td>\n",
       "      <td>0.43</td>\n",
       "      <td>0.0005</td>\n",
       "      <td>00:00:00</td>\n",
       "      <td>0.00</td>\n",
       "      <td>rain</td>\n",
       "      <td>1015.74</td>\n",
       "      <td>partly-cloudy-day</td>\n",
       "      <td>84.43</td>\n",
       "    </tr>\n",
       "    <tr>\n",
       "      <th>894</th>\n",
       "      <td>2019-06-27</td>\n",
       "      <td>13675.62</td>\n",
       "      <td>5443.00</td>\n",
       "      <td>170</td>\n",
       "      <td>80</td>\n",
       "      <td>143</td>\n",
       "      <td>0</td>\n",
       "      <td>107</td>\n",
       "      <td>5</td>\n",
       "      <td>2</td>\n",
       "      <td>86.09</td>\n",
       "      <td>0.34</td>\n",
       "      <td>0.0001</td>\n",
       "      <td>02:00:00</td>\n",
       "      <td>0.00</td>\n",
       "      <td>none</td>\n",
       "      <td>1019.05</td>\n",
       "      <td>partly-cloudy-day</td>\n",
       "      <td>86.09</td>\n",
       "    </tr>\n",
       "    <tr>\n",
       "      <th>895</th>\n",
       "      <td>2019-06-28</td>\n",
       "      <td>14171.25</td>\n",
       "      <td>6180.50</td>\n",
       "      <td>177</td>\n",
       "      <td>74</td>\n",
       "      <td>145</td>\n",
       "      <td>0</td>\n",
       "      <td>106</td>\n",
       "      <td>12</td>\n",
       "      <td>4</td>\n",
       "      <td>83.09</td>\n",
       "      <td>0.43</td>\n",
       "      <td>0.0000</td>\n",
       "      <td>05:01:00</td>\n",
       "      <td>0.00</td>\n",
       "      <td>none</td>\n",
       "      <td>1019.41</td>\n",
       "      <td>partly-cloudy-day</td>\n",
       "      <td>83.09</td>\n",
       "    </tr>\n",
       "    <tr>\n",
       "      <th>896</th>\n",
       "      <td>2019-06-29</td>\n",
       "      <td>14695.50</td>\n",
       "      <td>5369.75</td>\n",
       "      <td>189</td>\n",
       "      <td>72</td>\n",
       "      <td>135</td>\n",
       "      <td>3</td>\n",
       "      <td>123</td>\n",
       "      <td>10</td>\n",
       "      <td>5</td>\n",
       "      <td>77.17</td>\n",
       "      <td>0.75</td>\n",
       "      <td>0.0571</td>\n",
       "      <td>18:00:00</td>\n",
       "      <td>0.01</td>\n",
       "      <td>rain</td>\n",
       "      <td>1011.84</td>\n",
       "      <td>partly-cloudy-day</td>\n",
       "      <td>76.33</td>\n",
       "    </tr>\n",
       "    <tr>\n",
       "      <th>897</th>\n",
       "      <td>2019-06-30</td>\n",
       "      <td>14073.24</td>\n",
       "      <td>6925.50</td>\n",
       "      <td>221</td>\n",
       "      <td>75</td>\n",
       "      <td>156</td>\n",
       "      <td>2</td>\n",
       "      <td>138</td>\n",
       "      <td>4</td>\n",
       "      <td>1</td>\n",
       "      <td>79.33</td>\n",
       "      <td>0.39</td>\n",
       "      <td>0.0033</td>\n",
       "      <td>16:00:00</td>\n",
       "      <td>0.00</td>\n",
       "      <td>rain</td>\n",
       "      <td>1008.91</td>\n",
       "      <td>partly-cloudy-day</td>\n",
       "      <td>79.33</td>\n",
       "    </tr>\n",
       "  </tbody>\n",
       "</table>\n",
       "</div>"
      ],
      "text/plain": [
       "           date  inside_sales  outside_sales  inside_covers  outside_covers  \\\n",
       "893  2019-06-26      12605.00        4487.50            179              67   \n",
       "894  2019-06-27      13675.62        5443.00            170              80   \n",
       "895  2019-06-28      14171.25        6180.50            177              74   \n",
       "896  2019-06-29      14695.50        5369.75            189              72   \n",
       "897  2019-06-30      14073.24        6925.50            221              75   \n",
       "\n",
       "     reserved_covers  walkin_covers  waitlist_covers  no_show_covers  \\\n",
       "893              149              0               97               6   \n",
       "894              143              0              107               5   \n",
       "895              145              0              106              12   \n",
       "896              135              3              123              10   \n",
       "897              156              2              138               4   \n",
       "\n",
       "     no_show_parties  apparent_temperature  humidity  precip_intensity_max  \\\n",
       "893                2                 84.43      0.43                0.0005   \n",
       "894                2                 86.09      0.34                0.0001   \n",
       "895                4                 83.09      0.43                0.0000   \n",
       "896                5                 77.17      0.75                0.0571   \n",
       "897                1                 79.33      0.39                0.0033   \n",
       "\n",
       "    precip_max_time  precip_prob precip_type  pressure            summary  \\\n",
       "893        00:00:00         0.00        rain   1015.74  partly-cloudy-day   \n",
       "894        02:00:00         0.00        none   1019.05  partly-cloudy-day   \n",
       "895        05:01:00         0.00        none   1019.41  partly-cloudy-day   \n",
       "896        18:00:00         0.01        rain   1011.84  partly-cloudy-day   \n",
       "897        16:00:00         0.00        rain   1008.91  partly-cloudy-day   \n",
       "\n",
       "     temperature  \n",
       "893        84.43  \n",
       "894        86.09  \n",
       "895        83.09  \n",
       "896        76.33  \n",
       "897        79.33  "
      ]
     },
     "execution_count": 34,
     "metadata": {},
     "output_type": "execute_result"
    }
   ],
   "source": [
    "#Dsiplay the last few rows\n",
    "print(\"The bottom few data are:\")\n",
    "df.tail()"
   ]
  },
  {
   "cell_type": "code",
   "execution_count": 35,
   "id": "885af9ef",
   "metadata": {},
   "outputs": [
    {
     "name": "stdout",
     "output_type": "stream",
     "text": [
      "date                      0\n",
      "inside_sales              0\n",
      "outside_sales           475\n",
      "inside_covers             0\n",
      "outside_covers            0\n",
      "reserved_covers           0\n",
      "walkin_covers             0\n",
      "waitlist_covers           0\n",
      "no_show_covers            0\n",
      "no_show_parties           0\n",
      "apparent_temperature      0\n",
      "humidity                  0\n",
      "precip_intensity_max      0\n",
      "precip_max_time           0\n",
      "precip_prob               0\n",
      "precip_type               0\n",
      "pressure                  0\n",
      "summary                   0\n",
      "temperature               0\n",
      "dtype: int64\n"
     ]
    }
   ],
   "source": [
    "#Printing the sum of null values\n",
    "print(df.isnull().sum())"
   ]
  },
  {
   "cell_type": "code",
   "execution_count": 5,
   "id": "1b0d1912",
   "metadata": {},
   "outputs": [
    {
     "name": "stdout",
     "output_type": "stream",
     "text": [
      "The result after handeling the missing value is:\n"
     ]
    },
    {
     "data": {
      "text/html": [
       "<div>\n",
       "<style scoped>\n",
       "    .dataframe tbody tr th:only-of-type {\n",
       "        vertical-align: middle;\n",
       "    }\n",
       "\n",
       "    .dataframe tbody tr th {\n",
       "        vertical-align: top;\n",
       "    }\n",
       "\n",
       "    .dataframe thead th {\n",
       "        text-align: right;\n",
       "    }\n",
       "</style>\n",
       "<table border=\"1\" class=\"dataframe\">\n",
       "  <thead>\n",
       "    <tr style=\"text-align: right;\">\n",
       "      <th></th>\n",
       "      <th>date</th>\n",
       "      <th>inside_sales</th>\n",
       "      <th>outside_sales</th>\n",
       "      <th>inside_covers</th>\n",
       "      <th>outside_covers</th>\n",
       "      <th>reserved_covers</th>\n",
       "      <th>walkin_covers</th>\n",
       "      <th>waitlist_covers</th>\n",
       "      <th>no_show_covers</th>\n",
       "      <th>no_show_parties</th>\n",
       "      <th>apparent_temperature</th>\n",
       "      <th>humidity</th>\n",
       "      <th>precip_intensity_max</th>\n",
       "      <th>precip_max_time</th>\n",
       "      <th>precip_prob</th>\n",
       "      <th>precip_type</th>\n",
       "      <th>pressure</th>\n",
       "      <th>summary</th>\n",
       "      <th>temperature</th>\n",
       "    </tr>\n",
       "  </thead>\n",
       "  <tbody>\n",
       "    <tr>\n",
       "      <th>0</th>\n",
       "      <td>2017-01-02</td>\n",
       "      <td>13159.84</td>\n",
       "      <td>0.0</td>\n",
       "      <td>174</td>\n",
       "      <td>0</td>\n",
       "      <td>106</td>\n",
       "      <td>26</td>\n",
       "      <td>42</td>\n",
       "      <td>17</td>\n",
       "      <td>6</td>\n",
       "      <td>35.58</td>\n",
       "      <td>0.92</td>\n",
       "      <td>0.0242</td>\n",
       "      <td>15:00:00</td>\n",
       "      <td>0.79</td>\n",
       "      <td>rain</td>\n",
       "      <td>1027.98</td>\n",
       "      <td>rain</td>\n",
       "      <td>39.06</td>\n",
       "    </tr>\n",
       "    <tr>\n",
       "      <th>1</th>\n",
       "      <td>2017-01-03</td>\n",
       "      <td>12442.11</td>\n",
       "      <td>0.0</td>\n",
       "      <td>181</td>\n",
       "      <td>0</td>\n",
       "      <td>119</td>\n",
       "      <td>31</td>\n",
       "      <td>31</td>\n",
       "      <td>14</td>\n",
       "      <td>4</td>\n",
       "      <td>41.50</td>\n",
       "      <td>0.94</td>\n",
       "      <td>0.0913</td>\n",
       "      <td>17:00:00</td>\n",
       "      <td>0.77</td>\n",
       "      <td>rain</td>\n",
       "      <td>1000.08</td>\n",
       "      <td>rain</td>\n",
       "      <td>43.19</td>\n",
       "    </tr>\n",
       "    <tr>\n",
       "      <th>2</th>\n",
       "      <td>2017-01-04</td>\n",
       "      <td>12927.64</td>\n",
       "      <td>0.0</td>\n",
       "      <td>174</td>\n",
       "      <td>0</td>\n",
       "      <td>131</td>\n",
       "      <td>17</td>\n",
       "      <td>26</td>\n",
       "      <td>5</td>\n",
       "      <td>2</td>\n",
       "      <td>36.81</td>\n",
       "      <td>0.40</td>\n",
       "      <td>0.0176</td>\n",
       "      <td>00:00:00</td>\n",
       "      <td>0.00</td>\n",
       "      <td>rain</td>\n",
       "      <td>1002.55</td>\n",
       "      <td>clear-night</td>\n",
       "      <td>42.29</td>\n",
       "    </tr>\n",
       "    <tr>\n",
       "      <th>3</th>\n",
       "      <td>2017-01-05</td>\n",
       "      <td>14457.79</td>\n",
       "      <td>0.0</td>\n",
       "      <td>191</td>\n",
       "      <td>0</td>\n",
       "      <td>138</td>\n",
       "      <td>25</td>\n",
       "      <td>28</td>\n",
       "      <td>4</td>\n",
       "      <td>2</td>\n",
       "      <td>27.11</td>\n",
       "      <td>0.48</td>\n",
       "      <td>0.0000</td>\n",
       "      <td>05:01:00</td>\n",
       "      <td>0.00</td>\n",
       "      <td>none</td>\n",
       "      <td>1014.61</td>\n",
       "      <td>cloudy</td>\n",
       "      <td>31.36</td>\n",
       "    </tr>\n",
       "    <tr>\n",
       "      <th>4</th>\n",
       "      <td>2017-01-06</td>\n",
       "      <td>15331.97</td>\n",
       "      <td>0.0</td>\n",
       "      <td>200</td>\n",
       "      <td>0</td>\n",
       "      <td>130</td>\n",
       "      <td>16</td>\n",
       "      <td>54</td>\n",
       "      <td>6</td>\n",
       "      <td>3</td>\n",
       "      <td>24.74</td>\n",
       "      <td>0.48</td>\n",
       "      <td>0.0019</td>\n",
       "      <td>12:00:00</td>\n",
       "      <td>0.00</td>\n",
       "      <td>snow</td>\n",
       "      <td>1022.80</td>\n",
       "      <td>partly-cloudy-night</td>\n",
       "      <td>29.42</td>\n",
       "    </tr>\n",
       "  </tbody>\n",
       "</table>\n",
       "</div>"
      ],
      "text/plain": [
       "         date  inside_sales  outside_sales  inside_covers  outside_covers  \\\n",
       "0  2017-01-02      13159.84            0.0            174               0   \n",
       "1  2017-01-03      12442.11            0.0            181               0   \n",
       "2  2017-01-04      12927.64            0.0            174               0   \n",
       "3  2017-01-05      14457.79            0.0            191               0   \n",
       "4  2017-01-06      15331.97            0.0            200               0   \n",
       "\n",
       "   reserved_covers  walkin_covers  waitlist_covers  no_show_covers  \\\n",
       "0              106             26               42              17   \n",
       "1              119             31               31              14   \n",
       "2              131             17               26               5   \n",
       "3              138             25               28               4   \n",
       "4              130             16               54               6   \n",
       "\n",
       "   no_show_parties  apparent_temperature  humidity  precip_intensity_max  \\\n",
       "0                6                 35.58      0.92                0.0242   \n",
       "1                4                 41.50      0.94                0.0913   \n",
       "2                2                 36.81      0.40                0.0176   \n",
       "3                2                 27.11      0.48                0.0000   \n",
       "4                3                 24.74      0.48                0.0019   \n",
       "\n",
       "  precip_max_time  precip_prob precip_type  pressure              summary  \\\n",
       "0        15:00:00         0.79        rain   1027.98                 rain   \n",
       "1        17:00:00         0.77        rain   1000.08                 rain   \n",
       "2        00:00:00         0.00        rain   1002.55          clear-night   \n",
       "3        05:01:00         0.00        none   1014.61               cloudy   \n",
       "4        12:00:00         0.00        snow   1022.80  partly-cloudy-night   \n",
       "\n",
       "   temperature  \n",
       "0        39.06  \n",
       "1        43.19  \n",
       "2        42.29  \n",
       "3        31.36  \n",
       "4        29.42  "
      ]
     },
     "execution_count": 5,
     "metadata": {},
     "output_type": "execute_result"
    }
   ],
   "source": [
    "#Homework\n",
    "import pandas as pd\n",
    "#Handeling the missing values\n",
    "df = pd.read_csv('CSV_for_EDA.csv')\n",
    "print(\"The result after handeling the missing value is:\")\n",
    "df.head().fillna(0) # My question is why better value when printed without print?"
   ]
  },
  {
   "cell_type": "code",
   "execution_count": 11,
   "id": "506cba29",
   "metadata": {},
   "outputs": [
    {
     "name": "stdout",
     "output_type": "stream",
     "text": [
      "The size of DataFrame is: 17062\n",
      "\n",
      "The index of the DataFrame is: RangeIndex(start=0, stop=898, step=1)\n",
      "\n",
      "The columns of the DataFrame are: Index(['date', 'inside_sales', 'outside_sales', 'inside_covers',\n",
      "       'outside_covers', 'reserved_covers', 'walkin_covers', 'waitlist_covers',\n",
      "       'no_show_covers', 'no_show_parties', 'apparent_temperature', 'humidity',\n",
      "       'precip_intensity_max', 'precip_max_time', 'precip_prob', 'precip_type',\n",
      "       'pressure', 'summary', 'temperature'],\n",
      "      dtype='object')\n",
      "\n",
      "Dimension of the DataFrame is: 2\n"
     ]
    }
   ],
   "source": [
    "#Shape, Index, Columns, Size, Dimension\n",
    "size = df.size\n",
    "print(\"The size of DataFrame is:\", size)\n",
    "\n",
    "index = df.index\n",
    "print(\"\\nThe index of the DataFrame is:\", index)\n",
    "\n",
    "columns = df.columns\n",
    "print(\"\\nThe columns of the DataFrame are:\", columns)\n",
    "\n",
    "dimension = df.ndim\n",
    "print(\"\\nDimension of the DataFrame is:\", dimension)"
   ]
  },
  {
   "cell_type": "code",
   "execution_count": null,
   "id": "4f3cafaa",
   "metadata": {},
   "outputs": [],
   "source": [
    "#Vectorization operation\n"
   ]
  }
 ],
 "metadata": {
  "kernelspec": {
   "display_name": "Python 3 (ipykernel)",
   "language": "python",
   "name": "python3"
  },
  "language_info": {
   "codemirror_mode": {
    "name": "ipython",
    "version": 3
   },
   "file_extension": ".py",
   "mimetype": "text/x-python",
   "name": "python",
   "nbconvert_exporter": "python",
   "pygments_lexer": "ipython3",
   "version": "3.11.7"
  }
 },
 "nbformat": 4,
 "nbformat_minor": 5
}
